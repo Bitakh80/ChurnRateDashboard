{
 "cells": [
  {
   "cell_type": "code",
   "execution_count": 35,
   "metadata": {},
   "outputs": [],
   "source": [
    "import pandas as pd"
   ]
  },
  {
   "cell_type": "code",
   "execution_count": 36,
   "metadata": {},
   "outputs": [],
   "source": [
    "jj=pd.read_json('final.json')\n"
   ]
  },
  {
   "cell_type": "code",
   "execution_count": 37,
   "metadata": {},
   "outputs": [
    {
     "data": {
      "text/html": [
       "<div>\n",
       "<style scoped>\n",
       "    .dataframe tbody tr th:only-of-type {\n",
       "        vertical-align: middle;\n",
       "    }\n",
       "\n",
       "    .dataframe tbody tr th {\n",
       "        vertical-align: top;\n",
       "    }\n",
       "\n",
       "    .dataframe thead th {\n",
       "        text-align: right;\n",
       "    }\n",
       "</style>\n",
       "<table border=\"1\" class=\"dataframe\">\n",
       "  <thead>\n",
       "    <tr style=\"text-align: right;\">\n",
       "      <th></th>\n",
       "      <th>NID</th>\n",
       "      <th>ER</th>\n",
       "      <th>YR</th>\n",
       "      <th>ED</th>\n",
       "      <th>id</th>\n",
       "      <th>lat</th>\n",
       "      <th>lon</th>\n",
       "    </tr>\n",
       "  </thead>\n",
       "  <tbody>\n",
       "    <tr>\n",
       "      <th>0</th>\n",
       "      <td>300265</td>\n",
       "      <td>230.0</td>\n",
       "      <td>2017</td>\n",
       "      <td>8/9/2017</td>\n",
       "      <td>27</td>\n",
       "      <td>21.38773</td>\n",
       "      <td>-158.00755</td>\n",
       "    </tr>\n",
       "    <tr>\n",
       "      <th>1</th>\n",
       "      <td>303962</td>\n",
       "      <td>230.0</td>\n",
       "      <td>2017</td>\n",
       "      <td>8/9/2017</td>\n",
       "      <td>27</td>\n",
       "      <td>21.38773</td>\n",
       "      <td>-158.00755</td>\n",
       "    </tr>\n",
       "    <tr>\n",
       "      <th>10</th>\n",
       "      <td>323277</td>\n",
       "      <td>167.0</td>\n",
       "      <td>2017</td>\n",
       "      <td>8/9/2017</td>\n",
       "      <td>27</td>\n",
       "      <td>21.38773</td>\n",
       "      <td>-158.00755</td>\n",
       "    </tr>\n",
       "    <tr>\n",
       "      <th>100</th>\n",
       "      <td>301195</td>\n",
       "      <td>NaN</td>\n",
       "      <td>2018</td>\n",
       "      <td>8/8/2018</td>\n",
       "      <td>27</td>\n",
       "      <td>21.38773</td>\n",
       "      <td>-158.00755</td>\n",
       "    </tr>\n",
       "    <tr>\n",
       "      <th>1000</th>\n",
       "      <td>324696</td>\n",
       "      <td>NaN</td>\n",
       "      <td>2017</td>\n",
       "      <td>8/9/2017</td>\n",
       "      <td>27</td>\n",
       "      <td>21.38773</td>\n",
       "      <td>-158.00755</td>\n",
       "    </tr>\n",
       "  </tbody>\n",
       "</table>\n",
       "</div>"
      ],
      "text/plain": [
       "         NID     ER    YR        ED  id       lat        lon\n",
       "0     300265  230.0  2017  8/9/2017  27  21.38773 -158.00755\n",
       "1     303962  230.0  2017  8/9/2017  27  21.38773 -158.00755\n",
       "10    323277  167.0  2017  8/9/2017  27  21.38773 -158.00755\n",
       "100   301195    NaN  2018  8/8/2018  27  21.38773 -158.00755\n",
       "1000  324696    NaN  2017  8/9/2017  27  21.38773 -158.00755"
      ]
     },
     "execution_count": 37,
     "metadata": {},
     "output_type": "execute_result"
    }
   ],
   "source": [
    "jj.head()"
   ]
  },
  {
   "cell_type": "code",
   "execution_count": 38,
   "metadata": {},
   "outputs": [],
   "source": [
    "jj.to_json('final_fixed.json','records')"
   ]
  },
  {
   "cell_type": "code",
   "execution_count": null,
   "metadata": {},
   "outputs": [],
   "source": []
  }
 ],
 "metadata": {
  "kernelspec": {
   "display_name": "Python 3",
   "language": "python",
   "name": "python3"
  },
  "language_info": {
   "codemirror_mode": {
    "name": "ipython",
    "version": 3
   },
   "file_extension": ".py",
   "mimetype": "text/x-python",
   "name": "python",
   "nbconvert_exporter": "python",
   "pygments_lexer": "ipython3",
   "version": "3.7.2"
  }
 },
 "nbformat": 4,
 "nbformat_minor": 2
}
